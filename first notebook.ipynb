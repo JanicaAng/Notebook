{
 "cells": [
  {
   "cell_type": "markdown",
   "id": "4bbf7d58-12da-4be7-88d1-72ef613db80b",
   "metadata": {},
   "source": [
    "# Data Science Tools and Ecosystem"
   ]
  },
  {
   "cell_type": "markdown",
   "id": "531e070a-d517-4cdf-a1e8-445da435d1e7",
   "metadata": {},
   "source": [
    "In this notebook, Data Science Tools and Ecosystem are summarized."
   ]
  },
  {
   "cell_type": "markdown",
   "id": "e4fdc2c4-63ed-494f-ac2e-7a8491cf0d26",
   "metadata": {},
   "source": [
    "**Objectives:**\n",
    "- List popular languages in this notebook\n",
    "- List commonly used libraries\n",
    "- List Data Science Tools"
   ]
  },
  {
   "cell_type": "markdown",
   "id": "f4c9f6a3-8a59-4ee8-88e2-195ed12f02e3",
   "metadata": {},
   "source": [
    "Some of the popular languages that Data Scientists use are:\n",
    "1. Python\n",
    "2. R\n",
    "3. SQL"
   ]
  },
  {
   "cell_type": "markdown",
   "id": "67bb0cd8-058a-4b95-a7c1-6777212e1e56",
   "metadata": {},
   "source": [
    "Some of the commonly used libraries used by Data Scientists include:\n",
    "1. Numpy\n",
    "2. Pandas\n",
    "3. Matplotlib"
   ]
  },
  {
   "cell_type": "markdown",
   "id": "c7357b5b-4d87-464b-bb07-71c61ad4ab66",
   "metadata": {},
   "source": [
    "|Data Science Tools|\n",
    "|----------------|\n",
    "|TensorFlow |\n",
    "|Apache|\n",
    "|Matplotlib|"
   ]
  },
  {
   "cell_type": "markdown",
   "id": "ac5aa5a7-6672-493f-a2b9-19e3010aa710",
   "metadata": {},
   "source": [
    "### Below are a few examples of evaluating arithmetic expressions in Python"
   ]
  },
  {
   "cell_type": "code",
   "execution_count": 17,
   "id": "955b134f-8973-4773-a4f9-e1b04612f188",
   "metadata": {},
   "outputs": [
    {
     "data": {
      "text/plain": [
       "17"
      ]
     },
     "execution_count": 17,
     "metadata": {},
     "output_type": "execute_result"
    }
   ],
   "source": [
    "# This a simple arithmetic expression to mutiply then add integers\n",
    "(3*4)+5"
   ]
  },
  {
   "cell_type": "code",
   "execution_count": 19,
   "id": "9c03ff8d-3066-4936-9e77-7bb7ed3a2c12",
   "metadata": {},
   "outputs": [
    {
     "data": {
      "text/plain": [
       "3.3333333333333335"
      ]
     },
     "execution_count": 19,
     "metadata": {},
     "output_type": "execute_result"
    }
   ],
   "source": [
    "# This will convert 200 minutes to hours by diving by 60\n",
    "200/60"
   ]
  },
  {
   "cell_type": "markdown",
   "id": "7f367a58-0c77-48e7-b83e-ce5f49954ce5",
   "metadata": {},
   "source": [
    "## Author\n",
    "Janica Ang"
   ]
  },
  {
   "cell_type": "code",
   "execution_count": null,
   "id": "d2c1db70-c526-4c19-8b5f-bcc8fa3f65a8",
   "metadata": {},
   "outputs": [],
   "source": []
  }
 ],
 "metadata": {
  "kernelspec": {
   "display_name": "Python [conda env:base] *",
   "language": "python",
   "name": "conda-base-py"
  },
  "language_info": {
   "codemirror_mode": {
    "name": "ipython",
    "version": 3
   },
   "file_extension": ".py",
   "mimetype": "text/x-python",
   "name": "python",
   "nbconvert_exporter": "python",
   "pygments_lexer": "ipython3",
   "version": "3.12.7"
  }
 },
 "nbformat": 4,
 "nbformat_minor": 5
}
